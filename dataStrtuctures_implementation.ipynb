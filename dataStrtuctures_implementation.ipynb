{
 "cells": [
  {
   "cell_type": "markdown",
   "metadata": {},
   "source": [
    "# Data Structures implementation\n",
    "## Stefan Bordei\n"
   ]
  },
  {
   "cell_type": "markdown",
   "metadata": {},
   "source": [
    "# Part 1: Linked List"
   ]
  },
  {
   "cell_type": "markdown",
   "metadata": {},
   "source": [
    "## Node class\n",
    "\n",
    "This class will be uset to create objects used in myLinkedList"
   ]
  },
  {
   "cell_type": "code",
   "execution_count": 1,
   "metadata": {},
   "outputs": [],
   "source": [
    "import unittest, sys, os"
   ]
  },
  {
   "cell_type": "code",
   "execution_count": 2,
   "metadata": {},
   "outputs": [],
   "source": [
    "class Node(object):\n",
    "    \n",
    "    def __init__(self, value=None):\n",
    "        self.value = value\n",
    "        self.next_node = None\n",
    "        \n",
    "    def get_value(self):\n",
    "        return self.value\n",
    "        \n",
    "    def get_next(self):\n",
    "        return self.next_node\n",
    "    \n",
    "    def set_next(self,updated_next):\n",
    "        self.next_node = updated_next"
   ]
  },
  {
   "cell_type": "markdown",
   "metadata": {},
   "source": [
    "## myLinkedList class\n",
    "\n",
    "This class will implement the following methods:\n",
    "- add_first:  adding an element at the front\n",
    "- add_last:  adding an element at the end\n",
    "- remove_first:  removing a node at the front\n",
    "- list_traversal:  every node in the list has been seem"
   ]
  },
  {
   "cell_type": "code",
   "execution_count": 3,
   "metadata": {},
   "outputs": [],
   "source": [
    "class myLinkedList(object):\n",
    "    \"\"\"\n",
    "        Class that simulates a linked list in python.\n",
    "    \"\"\"\n",
    "    def __init__(self, head=None):\n",
    "        self.head= head\n",
    "    \n",
    "    \n",
    "    def isEmpty(self):\n",
    "        if self.head:\n",
    "            return False\n",
    "        \n",
    "        return True\n",
    "        \n",
    "    \n",
    "    def add_first(self, data):\n",
    "        new_node = Node(data)\n",
    "        new_node.set_next(self.head)\n",
    "        self.head = new_node\n",
    "        print(f\"[{data}] was added to first position in the list\")\n",
    "        return None\n",
    "        \n",
    "        \n",
    "    def add_last(self, data):\n",
    "        if self.isEmpty():\n",
    "            self.head = Node(data)\n",
    "            print(f\"[{data}] was added at the last position in the list\")\n",
    "            return None\n",
    "            \n",
    "        current_node = self.head\n",
    "        while current_node.next_node is not None:\n",
    "            current_node = current_node.get_next()\n",
    "\n",
    "        current_node.next_node = Node(data)\n",
    "        print(f\"[{data}] was added at the last position in the list\")\n",
    "        return None\n",
    "          \n",
    "        \n",
    "    def remove_first(self):\n",
    "        if self.isEmpty():\n",
    "            return \"Error: list is empty\"\n",
    "            \n",
    "        if self.head.get_next() is None:\n",
    "            print(f\"[{self.head.get_value()}] was removed, list is now empty\")\n",
    "            self.head = None\n",
    "            return None\n",
    "            \n",
    "        print(f\"[{self.head.get_value()}] was removed from the list, new head is [{self.head.next_node.get_value()}]\")\n",
    "        self.head = self.head.get_next()\n",
    "        return None\n",
    "        \n",
    "    \n",
    "    def remove_last(self):\n",
    "        if self.isEmpty():\n",
    "            return \"Error: list is empty\"\n",
    "            \n",
    "        if self.head.get_next() is None:\n",
    "            print(f\"[{self.head.get_value()}] was removed, list is now empty\")\n",
    "            self.head = None\n",
    "            return None\n",
    "        \n",
    "        current_node = self.head\n",
    "        while current_node.next_node.get_next() is not None:\n",
    "            current_node = current_node.get_next()\n",
    "        \n",
    "        current_node.set_next(None)\n",
    "        print(f\"[{current_node.next_node.get_value()}] was removed from the list\")\n",
    "        return None\n",
    "    \n",
    "            \n",
    "    def list_traversal(self):\n",
    "        if not self.head:\n",
    "            return \"Error: list is empty\"\n",
    "         \n",
    "        current_node = self.head\n",
    "        while current_node is not None:\n",
    "            print(current_node.get_value())\n",
    "            current_node = current_node.get_next()\n",
    "        \n",
    "        print(\"Done!\")\n",
    "        return None"
   ]
  },
  {
   "cell_type": "markdown",
   "metadata": {},
   "source": [
    "## Performing manual tests on the myLinkedList class methods"
   ]
  },
  {
   "cell_type": "code",
   "execution_count": 4,
   "metadata": {},
   "outputs": [],
   "source": [
    "mylist = myLinkedList()"
   ]
  },
  {
   "cell_type": "code",
   "execution_count": 5,
   "metadata": {},
   "outputs": [
    {
     "data": {
      "text/plain": [
       "True"
      ]
     },
     "execution_count": 5,
     "metadata": {},
     "output_type": "execute_result"
    }
   ],
   "source": [
    "mylist.isEmpty()"
   ]
  },
  {
   "cell_type": "code",
   "execution_count": 6,
   "metadata": {},
   "outputs": [
    {
     "name": "stdout",
     "output_type": "stream",
     "text": [
      "[54] was added at the last position in the list\n"
     ]
    }
   ],
   "source": [
    "mylist.add_last(54)"
   ]
  },
  {
   "cell_type": "code",
   "execution_count": 7,
   "metadata": {},
   "outputs": [
    {
     "data": {
      "text/plain": [
       "False"
      ]
     },
     "execution_count": 7,
     "metadata": {},
     "output_type": "execute_result"
    }
   ],
   "source": [
    "mylist.isEmpty()"
   ]
  },
  {
   "cell_type": "code",
   "execution_count": 8,
   "metadata": {},
   "outputs": [
    {
     "name": "stdout",
     "output_type": "stream",
     "text": [
      "54\n",
      "Done!\n"
     ]
    }
   ],
   "source": [
    "mylist.list_traversal()"
   ]
  },
  {
   "cell_type": "code",
   "execution_count": 9,
   "metadata": {},
   "outputs": [
    {
     "name": "stdout",
     "output_type": "stream",
     "text": [
      "[7] was added to first position in the list\n"
     ]
    }
   ],
   "source": [
    "mylist.add_first(7)"
   ]
  },
  {
   "cell_type": "code",
   "execution_count": 10,
   "metadata": {},
   "outputs": [
    {
     "name": "stdout",
     "output_type": "stream",
     "text": [
      "[7] was removed from the list, new head is [54]\n"
     ]
    }
   ],
   "source": [
    "mylist.remove_first()"
   ]
  },
  {
   "cell_type": "code",
   "execution_count": 11,
   "metadata": {},
   "outputs": [
    {
     "name": "stdout",
     "output_type": "stream",
     "text": [
      "[7] was added to first position in the list\n",
      "[8] was added to first position in the list\n",
      "[9] was added to first position in the list\n"
     ]
    }
   ],
   "source": [
    "mylist.add_first(7)\n",
    "mylist.add_first(8)\n",
    "mylist.add_first(9)"
   ]
  },
  {
   "cell_type": "code",
   "execution_count": 12,
   "metadata": {},
   "outputs": [
    {
     "name": "stdout",
     "output_type": "stream",
     "text": [
      "9\n",
      "8\n",
      "7\n",
      "54\n",
      "Done!\n"
     ]
    }
   ],
   "source": [
    "mylist.list_traversal()"
   ]
  },
  {
   "cell_type": "code",
   "execution_count": 13,
   "metadata": {},
   "outputs": [
    {
     "name": "stdout",
     "output_type": "stream",
     "text": [
      "[5] was added to first position in the list\n"
     ]
    }
   ],
   "source": [
    "mylist.add_first(5)"
   ]
  },
  {
   "cell_type": "code",
   "execution_count": 14,
   "metadata": {},
   "outputs": [
    {
     "name": "stdout",
     "output_type": "stream",
     "text": [
      "5\n",
      "9\n",
      "8\n",
      "7\n",
      "54\n",
      "Done!\n"
     ]
    }
   ],
   "source": [
    "mylist.list_traversal()"
   ]
  },
  {
   "cell_type": "code",
   "execution_count": 15,
   "metadata": {},
   "outputs": [
    {
     "name": "stdout",
     "output_type": "stream",
     "text": [
      "[5] was removed from the list, new head is [9]\n"
     ]
    }
   ],
   "source": [
    "mylist.remove_first()"
   ]
  },
  {
   "cell_type": "code",
   "execution_count": 16,
   "metadata": {},
   "outputs": [
    {
     "name": "stdout",
     "output_type": "stream",
     "text": [
      "9\n",
      "8\n",
      "7\n",
      "54\n",
      "Done!\n"
     ]
    }
   ],
   "source": [
    "mylist.list_traversal()"
   ]
  },
  {
   "cell_type": "code",
   "execution_count": 17,
   "metadata": {},
   "outputs": [
    {
     "name": "stdout",
     "output_type": "stream",
     "text": [
      "[33] was added at the last position in the list\n"
     ]
    }
   ],
   "source": [
    "mylist.add_last(33)"
   ]
  },
  {
   "cell_type": "code",
   "execution_count": 18,
   "metadata": {},
   "outputs": [
    {
     "name": "stdout",
     "output_type": "stream",
     "text": [
      "9\n",
      "8\n",
      "7\n",
      "54\n",
      "33\n",
      "Done!\n"
     ]
    }
   ],
   "source": [
    "mylist.list_traversal()"
   ]
  },
  {
   "cell_type": "markdown",
   "metadata": {},
   "source": [
    "## Unit tests for myLinkedList methods. Tests are run at the end of the notebook on myLinkedList, MyStack and myQueue."
   ]
  },
  {
   "cell_type": "code",
   "execution_count": 19,
   "metadata": {},
   "outputs": [],
   "source": [
    "class TestMyLinkedList(unittest.TestCase):\n",
    "    \"\"\"\n",
    "        Unit tests for myLinkedList methods.\n",
    "    \"\"\"\n",
    "    \n",
    "    def test_empty_emptyList(self):\n",
    "        testList = myLinkedList()\n",
    "        self.assertTrue(testList.isEmpty(), \"Failed: Expected True!\")\n",
    "    \n",
    "    def test_empty_populatedList(self):\n",
    "        testList = myLinkedList()\n",
    "        testList.add_first(5)\n",
    "        self.assertFalse(testList.isEmpty(), \"Failed: Expected False!\")\n",
    "    \n",
    "    def test_add_first(self):\n",
    "        testList = myLinkedList()\n",
    "        testList.add_first(5)\n",
    "        testList.add_first(13)\n",
    "        self.assertEqual(testList.head.get_value(), 13,\"Failed: Expected 13!\")\n",
    "    \n",
    "    def test_remove_first(self):\n",
    "        testList = myLinkedList()\n",
    "        testList.add_first(5)\n",
    "        testList.add_first(6)\n",
    "        testList.remove_first()\n",
    "        self.assertEqual(testList.head.get_value(), 5)\n",
    "    \n",
    "    def test_add_last(self):\n",
    "        testList = myLinkedList()\n",
    "        testList.add_first(5)\n",
    "        testList.add_first(6)\n",
    "        testList.add_last(13)\n",
    "        \n",
    "        current_node = testList.head\n",
    "        while current_node.next_node.get_next() is not None:\n",
    "            current_node = current_node.get_next()\n",
    "        \n",
    "        self.assertTrue(current_node.get_value(), 13)\n",
    "    \n",
    "    def test_remove_last(self):\n",
    "        testList = myLinkedList()\n",
    "        testList.add_first(5)\n",
    "        testList.add_first(6)\n",
    "        testList.add_last(13)\n",
    "        \n",
    "        current_node = testList.head\n",
    "        while current_node.next_node.get_next() is not None:\n",
    "            current_node = current_node.get_next()\n",
    "        \n",
    "        self.assertTrue(current_node.get_value(), 5)\n",
    "    "
   ]
  },
  {
   "cell_type": "markdown",
   "metadata": {},
   "source": [
    "### Stack ADT vs Queue ADT\n",
    "\n",
    "*Stacks:*\n",
    "\n",
    "Elements are inserted in a stack by following the LIFO (last in first out) principle meaning that the first element added to a stack will be the last element to be removed from it. Stacks have a number of operations associated with them such as:\n",
    "\n",
    "- push: adds an element to the stack\n",
    "- peek: returns the last added element but does not remove it\n",
    "- pop: removes the most recent element added \n",
    "\n",
    "Stacks are used in a variery of programs for performing undo/redo operations by creating two separate stacks, one for undo and one for redo. Whenever an operation is performed, the reverse of that operation is pushed to the undo stack. When an undo operation is called the undo stack is popped and called and an mirror operation is pushed to the redo stack.\n",
    "\n",
    "\n",
    "*Queues:*\n",
    "\n",
    "Elements are inserted in a queue by following the FIFO (first in first out) principle meaning that the first element added to a queue will be the first element to be remove from it. Queues have a number of operations assiciated with them such as:\n",
    "\n",
    "- enqueue: adds an element to the rear of the queue\n",
    "- peek: returns the frontmost element from the queue but  does not remove it\n",
    "- dequeue: returns and removes the frontmost element from the queue\n",
    "- isEmpty: checks if queue is empty\n",
    "\n",
    "Queues are used in resource sharring such as fulfilling multiple requests for a resource like the CPU or a printer.\n",
    "All the requests are placed in a queue and the first one to get in will be the first one to be called when the resource becomes available."
   ]
  },
  {
   "cell_type": "markdown",
   "metadata": {},
   "source": [
    "## Part 2: Stack\n",
    "\n",
    "### Implementing a stack"
   ]
  },
  {
   "cell_type": "code",
   "execution_count": 20,
   "metadata": {},
   "outputs": [],
   "source": [
    "class myStack(object):\n",
    "    \"\"\"\n",
    "        Class that simulates a stack in python.\n",
    "        methods:\n",
    "            - isEMpty: Return a bool stating if the stack is empty or not\n",
    "            - push: Adds an element to the stack\n",
    "            - pop: Removes an element to the stack\n",
    "            - peek: Returns the element at the top of the stack\n",
    "            - traverse: Prints all the elements in the stack\n",
    "            - get_length: Returns the length of the stack\n",
    "    \"\"\"\n",
    "    \n",
    "    def __init__(self):\n",
    "        self.head= None\n",
    "        \n",
    "        \n",
    "    def isEmpty(self):\n",
    "        if not self.head:\n",
    "            return True\n",
    "        \n",
    "        return False\n",
    "        \n",
    "    \n",
    "    def push(self, data):\n",
    "        new_node = Node(data)\n",
    "        new_node.next_node = self.head\n",
    "        self.head = new_node\n",
    "        print(f\"[{self.head.get_value()}] pushed to stack\")\n",
    "    \n",
    "    \n",
    "    def pop(self):\n",
    "        \n",
    "        if self.isEmpty():\n",
    "            print(\"Error: stack is empty\")\n",
    "            return None\n",
    "        \n",
    "        value = self.head.get_value()\n",
    "        self.head = self.head.get_next()\n",
    "        print(f\"[{value}] popped from stack\")\n",
    "        return value\n",
    "    \n",
    "    \n",
    "    def peek(self):\n",
    "        return self.head.get_value()\n",
    "    \n",
    "    def traverse(self):        \n",
    "        if not self.head:\n",
    "            print(\"List is empty\")\n",
    "            return None\n",
    "        \n",
    "        current_node = self.head\n",
    "\n",
    "        while current_node is not None:\n",
    "            print(current_node.get_value())\n",
    "            current_node = current_node.get_next()\n",
    "            \n",
    "        print(\"Done!\")\n",
    "        \n",
    "    def get_length(self):\n",
    "        \n",
    "        if self.isEmpty():\n",
    "            return 0\n",
    "\n",
    "        length = 0\n",
    "        current = self.head\n",
    "        while current != None:\n",
    "            length += 1\n",
    "            current = current.get_next()  \n",
    "\n",
    "        return length"
   ]
  },
  {
   "cell_type": "markdown",
   "metadata": {},
   "source": [
    "## Unit tests for myStack methods. Tests are run at the end of the notebook on myLinkedList, MyStack and myQueue."
   ]
  },
  {
   "cell_type": "code",
   "execution_count": 21,
   "metadata": {},
   "outputs": [],
   "source": [
    "class TestMyStack(unittest.TestCase):\n",
    "    \"\"\"\n",
    "        Unit tests for myStack methods.\n",
    "    \"\"\"\n",
    "    \n",
    "    def test_empty_emptyStack(self):\n",
    "        testStack = myStack()\n",
    "        self.assertTrue(testStack.isEmpty(), \"Failed: Expected True!\")\n",
    "    \n",
    "    def test_empty_populatedStack(self):\n",
    "        testStack = myStack()\n",
    "        testStack.push(5)\n",
    "        self.assertFalse(testStack.isEmpty(), \"Failed: Expected False!\")\n",
    "    \n",
    "    def test_push(self):\n",
    "        testStack = myStack()\n",
    "        testStack.push(5)\n",
    "        testStack.push(13)\n",
    "        self.assertEqual(testStack.head.get_value(), 13,\"Failed: Expected 13!\")\n",
    "    \n",
    "    def test_pop(self):\n",
    "        testStack = myStack()\n",
    "        testStack.push(5)\n",
    "        testStack.push(6)\n",
    "        testStack.pop()\n",
    "        self.assertEqual(testStack.head.get_value(), 5)\n",
    "    \n",
    "    \n",
    "    def test_peek(self):\n",
    "        testStack = myStack()\n",
    "        testStack.push(5)\n",
    "        testStack.push(6)\n",
    "        testStack.push(13)\n",
    "        testStack.pop()\n",
    "        self.assertTrue(testStack.peek(), 6)\n",
    "    \n",
    "    "
   ]
  },
  {
   "cell_type": "markdown",
   "metadata": {},
   "source": [
    "### 2) Values returned performing the requested operations"
   ]
  },
  {
   "cell_type": "code",
   "execution_count": 22,
   "metadata": {},
   "outputs": [],
   "source": [
    "S = myStack()"
   ]
  },
  {
   "cell_type": "code",
   "execution_count": 23,
   "metadata": {},
   "outputs": [
    {
     "name": "stdout",
     "output_type": "stream",
     "text": [
      "Error: stack is empty\n"
     ]
    }
   ],
   "source": [
    "S.pop()"
   ]
  },
  {
   "cell_type": "code",
   "execution_count": 24,
   "metadata": {},
   "outputs": [
    {
     "name": "stdout",
     "output_type": "stream",
     "text": [
      "[5] pushed to stack\n",
      "[3] pushed to stack\n",
      "[3] popped from stack\n"
     ]
    },
    {
     "data": {
      "text/plain": [
       "3"
      ]
     },
     "execution_count": 24,
     "metadata": {},
     "output_type": "execute_result"
    }
   ],
   "source": [
    "S.push(5)\n",
    "S.push(3)\n",
    "S.pop()"
   ]
  },
  {
   "cell_type": "code",
   "execution_count": 25,
   "metadata": {},
   "outputs": [
    {
     "name": "stdout",
     "output_type": "stream",
     "text": [
      "[2] pushed to stack\n",
      "[8] pushed to stack\n",
      "[8] popped from stack\n"
     ]
    },
    {
     "data": {
      "text/plain": [
       "8"
      ]
     },
     "execution_count": 25,
     "metadata": {},
     "output_type": "execute_result"
    }
   ],
   "source": [
    "S.push(2)\n",
    "S.push(8)\n",
    "S.pop()"
   ]
  },
  {
   "cell_type": "code",
   "execution_count": 26,
   "metadata": {},
   "outputs": [
    {
     "name": "stdout",
     "output_type": "stream",
     "text": [
      "[2] popped from stack\n"
     ]
    },
    {
     "data": {
      "text/plain": [
       "2"
      ]
     },
     "execution_count": 26,
     "metadata": {},
     "output_type": "execute_result"
    }
   ],
   "source": [
    "S.pop()"
   ]
  },
  {
   "cell_type": "code",
   "execution_count": 27,
   "metadata": {},
   "outputs": [
    {
     "name": "stdout",
     "output_type": "stream",
     "text": [
      "[9] pushed to stack\n",
      "[1] pushed to stack\n",
      "[1] popped from stack\n"
     ]
    },
    {
     "data": {
      "text/plain": [
       "1"
      ]
     },
     "execution_count": 27,
     "metadata": {},
     "output_type": "execute_result"
    }
   ],
   "source": [
    "S.push(9)\n",
    "S.push(1)\n",
    "S.pop()"
   ]
  },
  {
   "cell_type": "code",
   "execution_count": 28,
   "metadata": {},
   "outputs": [
    {
     "name": "stdout",
     "output_type": "stream",
     "text": [
      "[7] pushed to stack\n",
      "[6] pushed to stack\n",
      "[6] popped from stack\n"
     ]
    },
    {
     "data": {
      "text/plain": [
       "6"
      ]
     },
     "execution_count": 28,
     "metadata": {},
     "output_type": "execute_result"
    }
   ],
   "source": [
    "S.push(7)\n",
    "S.push(6)\n",
    "S.pop()"
   ]
  },
  {
   "cell_type": "code",
   "execution_count": 29,
   "metadata": {},
   "outputs": [
    {
     "name": "stdout",
     "output_type": "stream",
     "text": [
      "[7] popped from stack\n"
     ]
    },
    {
     "data": {
      "text/plain": [
       "7"
      ]
     },
     "execution_count": 29,
     "metadata": {},
     "output_type": "execute_result"
    }
   ],
   "source": [
    "S.pop()"
   ]
  },
  {
   "cell_type": "code",
   "execution_count": 30,
   "metadata": {},
   "outputs": [
    {
     "name": "stdout",
     "output_type": "stream",
     "text": [
      "[4] pushed to stack\n",
      "[4] popped from stack\n"
     ]
    },
    {
     "data": {
      "text/plain": [
       "4"
      ]
     },
     "execution_count": 30,
     "metadata": {},
     "output_type": "execute_result"
    }
   ],
   "source": [
    "S.push(4)\n",
    "S.pop()"
   ]
  },
  {
   "cell_type": "code",
   "execution_count": 31,
   "metadata": {},
   "outputs": [
    {
     "name": "stdout",
     "output_type": "stream",
     "text": [
      "[9] popped from stack\n"
     ]
    },
    {
     "data": {
      "text/plain": [
       "9"
      ]
     },
     "execution_count": 31,
     "metadata": {},
     "output_type": "execute_result"
    }
   ],
   "source": [
    "S.pop()"
   ]
  },
  {
   "cell_type": "markdown",
   "metadata": {},
   "source": [
    "### 3) The operations that raised errors due to the stack being empty don't affect the size of the stack. In total, 35 pushes were performed and 7 pops.\n",
    "\n",
    "S has a size of 28"
   ]
  },
  {
   "cell_type": "code",
   "execution_count": 32,
   "metadata": {},
   "outputs": [
    {
     "name": "stdout",
     "output_type": "stream",
     "text": [
      "Error: stack is empty\n",
      "Error: stack is empty\n",
      "Error: stack is empty\n",
      "[0] pushed to stack\n",
      "[1] pushed to stack\n",
      "[2] pushed to stack\n",
      "[3] pushed to stack\n",
      "[4] pushed to stack\n",
      "[5] pushed to stack\n",
      "[6] pushed to stack\n",
      "[7] pushed to stack\n",
      "[8] pushed to stack\n",
      "[9] pushed to stack\n",
      "[10] pushed to stack\n",
      "[11] pushed to stack\n",
      "[12] pushed to stack\n",
      "[13] pushed to stack\n",
      "[14] pushed to stack\n",
      "[15] pushed to stack\n",
      "[16] pushed to stack\n",
      "[17] pushed to stack\n",
      "[18] pushed to stack\n",
      "[19] pushed to stack\n",
      "[20] pushed to stack\n",
      "[21] pushed to stack\n",
      "[22] pushed to stack\n",
      "[23] pushed to stack\n",
      "[24] pushed to stack\n",
      "[25] pushed to stack\n",
      "[26] pushed to stack\n",
      "[27] pushed to stack\n",
      "[28] pushed to stack\n",
      "[29] pushed to stack\n",
      "[30] pushed to stack\n",
      "[31] pushed to stack\n",
      "[32] pushed to stack\n",
      "[33] pushed to stack\n",
      "[34] pushed to stack\n",
      "[34] popped from stack\n",
      "[33] popped from stack\n",
      "[32] popped from stack\n",
      "[31] popped from stack\n",
      "[30] popped from stack\n",
      "[29] popped from stack\n",
      "[28] popped from stack\n",
      "Size of S: 28\n"
     ]
    }
   ],
   "source": [
    "S = myStack()\n",
    "\n",
    "for _ in range(3):\n",
    "    S.pop()   \n",
    "push_nums = [i for i in range(35)]\n",
    "len(push_nums)\n",
    "\n",
    "for num in push_nums:\n",
    "    S.push(num)\n",
    "    \n",
    "for _ in range(7):\n",
    "    S.pop()\n",
    "    \n",
    "print(f\"Size of S: {S.get_length()}\")"
   ]
  },
  {
   "cell_type": "markdown",
   "metadata": {},
   "source": [
    "## Part 3: Queue\n",
    "\n",
    "### Implementing a Queue"
   ]
  },
  {
   "cell_type": "code",
   "execution_count": 33,
   "metadata": {},
   "outputs": [],
   "source": [
    "class myQueue(object):\n",
    "    \"\"\"\n",
    "        Class that simulates a queue list in python.\n",
    "        methods:\n",
    "            - isEmpty: Returns a bool stating if there are any nodes in the queue\n",
    "            - enqueue: Adds an element to the queue\n",
    "            - dequeue: Removes element from the queue\n",
    "            - traverse: Prints all the elements in the queue\n",
    "            - get_length: Returns the length of the queue\n",
    "    \"\"\"\n",
    "    \n",
    "    def __init__(self):\n",
    "        self.head= None\n",
    "        self.tail= None    \n",
    "        \n",
    "    def isEmpty(self):\n",
    "        if not self.head:\n",
    "            return True\n",
    "\n",
    "        return False\n",
    "        \n",
    "        \n",
    "    def enqueue(self, data):\n",
    "        new_node = Node(data)\n",
    "        \n",
    "        if self.isEmpty():\n",
    "            self.head = new_node\n",
    "            self.tail = new_node\n",
    "            return None\n",
    "            \n",
    "        self.tail.next_node = new_node\n",
    "        self.tail = new_node\n",
    "            \n",
    "            \n",
    "    def dequeue(self):\n",
    "        if self.isEmpty():\n",
    "            print(\"Error: queue is empty\")\n",
    "            return None\n",
    "        \n",
    "        value = self.head.get_value()\n",
    "        self.head = self.head.get_next()\n",
    "        return value\n",
    "    \n",
    "    def traverse(self):\n",
    "        current = self.head\n",
    "        while current != None:\n",
    "            print(current.get_value())\n",
    "            current = current.get_next()\n",
    "            \n",
    "        print(\"Done!\")\n",
    "    \n",
    "    def get_length(self):\n",
    "        if self.isEmpty():\n",
    "            return 0\n",
    "        \n",
    "        length = 0\n",
    "        current = self.head\n",
    "\n",
    "\n",
    "        while current != None:\n",
    "            length += 1\n",
    "            current = current.get_next()\n",
    "\n",
    "        return length\n",
    "                \n",
    "    def peek(self):\n",
    "        return self.head.get_value()"
   ]
  },
  {
   "cell_type": "markdown",
   "metadata": {},
   "source": [
    "## Unit tests for myQueue methods. Tests are run at the end of the notebook on myLinkedList, MyStack and myQueue."
   ]
  },
  {
   "cell_type": "code",
   "execution_count": 34,
   "metadata": {},
   "outputs": [],
   "source": [
    "class TestMyQueue(unittest.TestCase):\n",
    "    \"\"\"\n",
    "        Unit Tests for myQueue methods.\n",
    "    \"\"\"\n",
    "    \n",
    "    def test_empty_emptyQueue(self):\n",
    "        testQueue = myQueue()\n",
    "        self.assertTrue(testQueue.isEmpty(), \"Failed: Expected True!\")\n",
    "    \n",
    "    def test_empty_populatedQueue(self):\n",
    "        testQueue = myQueue()\n",
    "        testQueue.enqueue(5)\n",
    "        self.assertFalse(testQueue.isEmpty(), \"Failed: Expected False!\")\n",
    "    \n",
    "    def test_push(self):\n",
    "        testQueue = myQueue()\n",
    "        testQueue.enqueue(5)\n",
    "        testQueue.enqueue(13)\n",
    "        self.assertEqual(testQueue.get_length(), 2)\n",
    "    \n",
    "    def test_pop(self):\n",
    "        testQueue = myQueue()\n",
    "        testQueue.enqueue(5)\n",
    "        testQueue.enqueue(6)\n",
    "        testQueue.dequeue()\n",
    "        self.assertEqual(testQueue.get_length(), 1)\n",
    "    \n",
    "    \n",
    "    def test_length(self):\n",
    "        testQueue = myQueue()\n",
    "        testQueue.enqueue(5)\n",
    "        testQueue.enqueue(6)\n",
    "        testQueue.enqueue(13)\n",
    "        testQueue.dequeue()\n",
    "        self.assertTrue(testQueue.get_length(), 2)\n",
    "    "
   ]
  },
  {
   "cell_type": "code",
   "execution_count": 35,
   "metadata": {},
   "outputs": [],
   "source": [
    "Q = myQueue()"
   ]
  },
  {
   "cell_type": "code",
   "execution_count": 36,
   "metadata": {},
   "outputs": [
    {
     "data": {
      "text/plain": [
       "5"
      ]
     },
     "execution_count": 36,
     "metadata": {},
     "output_type": "execute_result"
    }
   ],
   "source": [
    "Q.enqueue(5)\n",
    "Q.enqueue(3)\n",
    "Q.dequeue()"
   ]
  },
  {
   "cell_type": "code",
   "execution_count": 37,
   "metadata": {},
   "outputs": [
    {
     "data": {
      "text/plain": [
       "3"
      ]
     },
     "execution_count": 37,
     "metadata": {},
     "output_type": "execute_result"
    }
   ],
   "source": [
    "Q.enqueue(2)\n",
    "Q.enqueue(8)\n",
    "Q.dequeue()"
   ]
  },
  {
   "cell_type": "code",
   "execution_count": 38,
   "metadata": {},
   "outputs": [
    {
     "data": {
      "text/plain": [
       "2"
      ]
     },
     "execution_count": 38,
     "metadata": {},
     "output_type": "execute_result"
    }
   ],
   "source": [
    "Q.dequeue()"
   ]
  },
  {
   "cell_type": "code",
   "execution_count": 39,
   "metadata": {},
   "outputs": [
    {
     "data": {
      "text/plain": [
       "8"
      ]
     },
     "execution_count": 39,
     "metadata": {},
     "output_type": "execute_result"
    }
   ],
   "source": [
    "Q.enqueue(9)\n",
    "Q.enqueue(1)\n",
    "Q.dequeue()"
   ]
  },
  {
   "cell_type": "code",
   "execution_count": 40,
   "metadata": {},
   "outputs": [
    {
     "data": {
      "text/plain": [
       "9"
      ]
     },
     "execution_count": 40,
     "metadata": {},
     "output_type": "execute_result"
    }
   ],
   "source": [
    "Q.enqueue(7)\n",
    "Q.enqueue(6)\n",
    "Q.dequeue()"
   ]
  },
  {
   "cell_type": "code",
   "execution_count": 41,
   "metadata": {},
   "outputs": [
    {
     "data": {
      "text/plain": [
       "1"
      ]
     },
     "execution_count": 41,
     "metadata": {},
     "output_type": "execute_result"
    }
   ],
   "source": [
    "Q.dequeue()"
   ]
  },
  {
   "cell_type": "code",
   "execution_count": 42,
   "metadata": {},
   "outputs": [
    {
     "data": {
      "text/plain": [
       "7"
      ]
     },
     "execution_count": 42,
     "metadata": {},
     "output_type": "execute_result"
    }
   ],
   "source": [
    "Q.enqueue(4)\n",
    "Q.dequeue()"
   ]
  },
  {
   "cell_type": "code",
   "execution_count": 43,
   "metadata": {},
   "outputs": [
    {
     "data": {
      "text/plain": [
       "6"
      ]
     },
     "execution_count": 43,
     "metadata": {},
     "output_type": "execute_result"
    }
   ],
   "source": [
    "Q.dequeue()"
   ]
  },
  {
   "cell_type": "markdown",
   "metadata": {},
   "source": [
    "### 3) The 5 deque operations that raised an error because the queue was empty don't affect the size of the queue. There are 50 elements added to the queue and 10 removed resulting in S having a lenght of 40."
   ]
  },
  {
   "cell_type": "code",
   "execution_count": 44,
   "metadata": {},
   "outputs": [
    {
     "name": "stdout",
     "output_type": "stream",
     "text": [
      "Error: queue is empty\n",
      "Error: queue is empty\n",
      "Error: queue is empty\n",
      "Error: queue is empty\n",
      "Error: queue is empty\n",
      "Size of Q: 40\n"
     ]
    }
   ],
   "source": [
    "Q = myQueue()\n",
    "dequeue= 15\n",
    "failed_dequeue = 5\n",
    "successful_dequeue= dequeue - failed_dequeue\n",
    "enqueue = 50\n",
    "top= 15\n",
    "\n",
    "for _ in range(failed_dequeue):\n",
    "    Q.dequeue()\n",
    "    \n",
    "enqueue_nums = [i for i in range(enqueue)]\n",
    "\n",
    "for num in enqueue_nums:\n",
    "    Q.enqueue(num)\n",
    "    \n",
    "for _ in range(top):\n",
    "    Q.peek()\n",
    "    \n",
    "for _ in range(successful_dequeue):\n",
    "    Q.dequeue()\n",
    "\n",
    "\n",
    "print(f\"Size of Q: {Q.get_length()}\")"
   ]
  },
  {
   "cell_type": "markdown",
   "metadata": {},
   "source": [
    "## Unit tests\n",
    "\n",
    "`sys.stdout` is redirrected in order to silence the print statements of the methods so the unittests are easier to read.\n",
    "After the unittests are run `sys.stdout` is resetted."
   ]
  },
  {
   "cell_type": "code",
   "execution_count": 45,
   "metadata": {},
   "outputs": [
    {
     "name": "stderr",
     "output_type": "stream",
     "text": [
      "test_add_first (__main__.TestMyLinkedList) ... ok\n",
      "test_add_last (__main__.TestMyLinkedList) ... ok\n",
      "test_empty_emptyList (__main__.TestMyLinkedList) ... ok\n",
      "test_empty_populatedList (__main__.TestMyLinkedList) ... ok\n",
      "test_remove_first (__main__.TestMyLinkedList) ... ok\n",
      "test_remove_last (__main__.TestMyLinkedList) ... ok\n",
      "test_empty_emptyQueue (__main__.TestMyQueue) ... ok\n",
      "test_empty_populatedQueue (__main__.TestMyQueue) ... ok\n",
      "test_length (__main__.TestMyQueue) ... ok\n",
      "test_pop (__main__.TestMyQueue) ... ok\n",
      "test_push (__main__.TestMyQueue) ... ok\n",
      "test_empty_emptyStack (__main__.TestMyStack) ... ok\n",
      "test_empty_populatedStack (__main__.TestMyStack) ... ok\n",
      "test_peek (__main__.TestMyStack) ... ok\n",
      "test_pop (__main__.TestMyStack) ... ok\n",
      "test_push (__main__.TestMyStack) ... ok\n",
      "\n",
      "----------------------------------------------------------------------\n",
      "Ran 16 tests in 0.015s\n",
      "\n",
      "OK\n"
     ]
    }
   ],
   "source": [
    "orig_stdout = sys.stdout     \n",
    "sys.stdout = open(os.devnull, 'w')\n",
    "unittest.main(argv=[''], verbosity=2, exit=False)\n",
    "sys.stdout.close()\n",
    "sys.stdout = orig_stdout"
   ]
  },
  {
   "cell_type": "code",
   "execution_count": null,
   "metadata": {},
   "outputs": [],
   "source": []
  }
 ],
 "metadata": {
  "kernelspec": {
   "display_name": "Python 3",
   "language": "python",
   "name": "python3"
  },
  "language_info": {
   "codemirror_mode": {
    "name": "ipython",
    "version": 3
   },
   "file_extension": ".py",
   "mimetype": "text/x-python",
   "name": "python",
   "nbconvert_exporter": "python",
   "pygments_lexer": "ipython3",
   "version": "3.8.8"
  }
 },
 "nbformat": 4,
 "nbformat_minor": 4
}
